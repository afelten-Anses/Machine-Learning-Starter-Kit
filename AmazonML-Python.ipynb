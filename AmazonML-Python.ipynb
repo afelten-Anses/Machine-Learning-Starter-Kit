{
 "cells": [
  {
   "cell_type": "markdown",
   "metadata": {},
   "source": [
    "This notebook works only for regression problems. You would need to adapt some of the code for binary or multiclass classification (search the notebook for \"regression-specific\").\n",
    "\n",
    "\n",
    "# Initialization\n",
    "\n",
    "We create the _ml_ object which will be used to communicate with the Amazon ML API. We need to provide a key id and secret in order to authenticate. Go [here](https://console.aws.amazon.com/iam/home#security_credential) if you need to create a new key pair."
   ]
  },
  {
   "cell_type": "code",
   "execution_count": null,
   "metadata": {
    "collapsed": false
   },
   "outputs": [],
   "source": [
    "AWS_ACCESS_KEY_ID = \"\"\n",
    "AWS_SECRET_ACCESS_KEY = \"\"\n",
    "\n",
    "import boto\n",
    "ml = boto.connect_machinelearning(AWS_ACCESS_KEY_ID, AWS_SECRET_ACCESS_KEY)"
   ]
  },
  {
   "cell_type": "markdown",
   "metadata": {},
   "source": [
    "# API basics and data source creation"
   ]
  },
  {
   "cell_type": "markdown",
   "metadata": {},
   "source": [
    "First we need a unique suffix for our object ids:"
   ]
  },
  {
   "cell_type": "code",
   "execution_count": null,
   "metadata": {
    "collapsed": false
   },
   "outputs": [],
   "source": [
    "import datetime\n",
    "import base64\n",
    "import numpy\n",
    "suffix = str(numpy.random.randint(999)) + \"-\" + datetime.datetime.now().strftime(\"%Y-%m-%d\")"
   ]
  },
  {
   "cell_type": "markdown",
   "metadata": {},
   "source": [
    "Let's create a data source from a file in S3:"
   ]
  },
  {
   "cell_type": "code",
   "execution_count": null,
   "metadata": {
    "collapsed": false
   },
   "outputs": [],
   "source": [
    "source_id = \"ds-realtor-lv-\" + suffix\n",
    "ml.create_data_source_from_s3(\n",
    "        data_source_id = source_id,\n",
    "        data_spec = {\n",
    "            'DataLocationS3': 's3://papiseval/realtor-las-vegas.csv',\n",
    "            'DataSchemaLocationS3': 's3://papiseval/realtor-las-vegas.csv.schema'\n",
    "        },\n",
    "        data_source_name = \"Realtor LV from API\",\n",
    "        compute_statistics = True\n",
    "    )"
   ]
  },
  {
   "cell_type": "markdown",
   "metadata": {},
   "source": [
    "Let's get the source object:"
   ]
  },
  {
   "cell_type": "code",
   "execution_count": null,
   "metadata": {
    "collapsed": false
   },
   "outputs": [],
   "source": [
    "source = ml.get_data_source(data_source_id = source_id, verbose = True)\n",
    "source"
   ]
  },
  {
   "cell_type": "markdown",
   "metadata": {},
   "source": [
    "We can check out this object on the Amazon ML dashboard: click on the link outputted below"
   ]
  },
  {
   "cell_type": "code",
   "execution_count": null,
   "metadata": {
    "collapsed": false
   },
   "outputs": [],
   "source": [
    "print(\"https://console.aws.amazon.com/machinelearning/home?region=us-east-1#/insights/\" + source_id + \"/summary\")"
   ]
  },
  {
   "cell_type": "markdown",
   "metadata": {},
   "source": [
    "### Trick for generating schema\n",
    "Create source from web interface and ask for automatic schema creation. Verify and confirm. Get the data source id. You can then put it below and access the schema!"
   ]
  },
  {
   "cell_type": "code",
   "execution_count": null,
   "metadata": {
    "collapsed": false
   },
   "outputs": [],
   "source": [
    "# source = ml.get_data_source(data_source_id=\"ds-Uo8b1zzi5O1\", verbose=True)\n",
    "# source['DataSourceSchema']"
   ]
  },
  {
   "cell_type": "markdown",
   "metadata": {},
   "source": [
    "# Model creation"
   ]
  },
  {
   "cell_type": "code",
   "execution_count": null,
   "metadata": {
    "collapsed": false
   },
   "outputs": [],
   "source": [
    "model_id = \"model-realtor-lv-\" + suffix\n",
    "ml.create_ml_model(\n",
    "    ml_model_id = model_id,\n",
    "    ml_model_type = \"REGRESSION\", # regression-specific\n",
    "    training_data_source_id = source_id,\n",
    "    ml_model_name = \"LV real-estate pricing model from API\")"
   ]
  },
  {
   "cell_type": "markdown",
   "metadata": {},
   "source": [
    "Model building are asynchronous. Is the new object ready?"
   ]
  },
  {
   "cell_type": "code",
   "execution_count": null,
   "metadata": {
    "collapsed": false
   },
   "outputs": [],
   "source": [
    "# copied from https://github.com/awslabs/machine-learning-samples/blob/master/targeted-marketing-python/use_model.py\n",
    "import random\n",
    "import time\n",
    "def poll_until_completed(ml, model_id):\n",
    "    delay = 2\n",
    "    while True:\n",
    "        model = ml.get_ml_model(model_id)\n",
    "        status = model['Status']\n",
    "        message = model.get('Message', '')\n",
    "        now = str(datetime.datetime.now().time())\n",
    "        print(\"Model %s is %s (%s) at %s\" % (model_id, status, message, now))\n",
    "        if status in ['COMPLETED', 'FAILED', 'INVALID']:\n",
    "            break\n",
    "\n",
    "        # exponential backoff with jitter\n",
    "        delay *= random.uniform(1.1, 2.0)\n",
    "        time.sleep(delay)\n",
    "        \n",
    "poll_until_completed(ml, model_id)"
   ]
  },
  {
   "cell_type": "markdown",
   "metadata": {},
   "source": [
    "We can now see what this model looks like"
   ]
  },
  {
   "cell_type": "code",
   "execution_count": null,
   "metadata": {
    "collapsed": false
   },
   "outputs": [],
   "source": [
    "model = ml.get_ml_model(model_id)\n",
    "model"
   ]
  },
  {
   "cell_type": "markdown",
   "metadata": {},
   "source": [
    "# Real-time predictions"
   ]
  },
  {
   "cell_type": "markdown",
   "metadata": {},
   "source": [
    "First we need to activate an endpoint for making realtime predictions (as opposed to batch) against our model"
   ]
  },
  {
   "cell_type": "code",
   "execution_count": null,
   "metadata": {
    "collapsed": true
   },
   "outputs": [],
   "source": [
    "ml.create_realtime_endpoint(model_id)"
   ]
  },
  {
   "cell_type": "markdown",
   "metadata": {},
   "source": [
    "Make sure that the endpoint is ready"
   ]
  },
  {
   "cell_type": "code",
   "execution_count": null,
   "metadata": {
    "collapsed": false
   },
   "outputs": [],
   "source": [
    "ml.get_ml_model(model_id).get('EndpointInfo').get('EndpointStatus')"
   ]
  },
  {
   "cell_type": "markdown",
   "metadata": {},
   "source": [
    "We can now make a prediction on a new input data point, and we don't need to specify all field/feature values. Predictions are made synchronously."
   ]
  },
  {
   "cell_type": "code",
   "execution_count": null,
   "metadata": {
    "collapsed": false
   },
   "outputs": [],
   "source": [
    "input_data = {\n",
    "                \"bedrooms\": \"4\", # note that values must be strings (unlike BigML)\n",
    "                \"full_bathrooms\": \"2\",\n",
    "                \"type\": \"Single Family Home\",\n",
    "                \"size_sqft\": \"1500\"\n",
    "            }\n",
    "\n",
    "endpoint = model.get('EndpointInfo').get('EndpointUrl')\n",
    "model_prediction = ml.predict(ml_model_id = model_id, record = input_data, predict_endpoint = endpoint)"
   ]
  },
  {
   "cell_type": "markdown",
   "metadata": {},
   "source": [
    "Here is the raw prediction object:"
   ]
  },
  {
   "cell_type": "code",
   "execution_count": null,
   "metadata": {
    "collapsed": false
   },
   "outputs": [],
   "source": [
    "model_prediction"
   ]
  },
  {
   "cell_type": "markdown",
   "metadata": {},
   "source": [
    "And now the information we care about:"
   ]
  },
  {
   "cell_type": "code",
   "execution_count": null,
   "metadata": {
    "collapsed": false
   },
   "outputs": [],
   "source": [
    "print \"Predicted price: \",model_prediction.get('Prediction').get('predictedValue') # regression-specific"
   ]
  },
  {
   "cell_type": "markdown",
   "metadata": {},
   "source": [
    "## Learn more\n",
    "See\n",
    "\n",
    "* http://cloudacademy.com/blog/aws-machine-learning/\n",
    "* https://gist.github.com/alexcasalboni/fcbc4a1b61b21c5001e7\n",
    "* https://github.com/awslabs/machine-learning-samples/blob/master/targeted-marketing-python/build_model.py\n",
    "\n",
    "for some code."
   ]
  }
 ],
 "metadata": {
  "anaconda-cloud": {},
  "kernelspec": {
   "display_name": "Python [default]",
   "language": "python",
   "name": "python3"
  },
  "language_info": {
   "codemirror_mode": {
    "name": "ipython",
    "version": 3
   },
   "file_extension": ".py",
   "mimetype": "text/x-python",
   "name": "python",
   "nbconvert_exporter": "python",
   "pygments_lexer": "ipython3",
   "version": "3.5.2"
  }
 },
 "nbformat": 4,
 "nbformat_minor": 0
}
