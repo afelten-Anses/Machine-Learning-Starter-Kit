{
 "cells": [
  {
   "cell_type": "markdown",
   "metadata": {},
   "source": [
    "This page is showing a Jupyter notebook, which you can think of as an interactive web-based code tutorial.\n",
    "\n",
    "Notebooks are web pages in which there are blocks of text, such as the one containing the paragraph you're reading, and blocks of code that you can edit and run. These blocks are actually called \"cells\". The code is run on the same server that serves the page and the output is displayed on the page. To edit a block of code, just click on it. You can then execute the code by pressing Shift+Enter."
   ]
  },
  {
   "cell_type": "code",
   "execution_count": null,
   "metadata": {
    "collapsed": true
   },
   "outputs": [],
   "source": [
    "a = 2\n",
    "print a"
   ]
  },
  {
   "cell_type": "markdown",
   "metadata": {},
   "source": [
    "Now that the variable `a` has been defined, we can use it in other code cells:"
   ]
  },
  {
   "cell_type": "code",
   "execution_count": null,
   "metadata": {
    "collapsed": false
   },
   "outputs": [],
   "source": [
    "a + a"
   ]
  },
  {
   "cell_type": "markdown",
   "metadata": {},
   "source": [
    "(Note the number X in between brackets in \"In [X]\" which tells you how many blocks of code have been run so far.)\n",
    "\n",
    "Let's now do some more advanced math. We'll use the \"math\" library:"
   ]
  },
  {
   "cell_type": "code",
   "execution_count": null,
   "metadata": {
    "collapsed": true
   },
   "outputs": [],
   "source": [
    "import math"
   ]
  },
  {
   "cell_type": "markdown",
   "metadata": {},
   "source": [
    "The code in the cell below is not valid. If you position your cursor at the end of the cell and press on the Tabulation key of your keyboard, you'll see all the functions of the math library that start with an 's'."
   ]
  },
  {
   "cell_type": "code",
   "execution_count": null,
   "metadata": {
    "collapsed": true
   },
   "outputs": [],
   "source": [
    "math.s"
   ]
  },
  {
   "cell_type": "markdown",
   "metadata": {},
   "source": [
    "Let's choose math.sqrt . If we press Shift + Tabulation, we'll see some basic information about this function. Also try to keep Shift pressed and press Tabulation several times."
   ]
  },
  {
   "cell_type": "code",
   "execution_count": null,
   "metadata": {
    "collapsed": true
   },
   "outputs": [],
   "source": [
    "math.sqrt"
   ]
  },
  {
   "cell_type": "markdown",
   "metadata": {},
   "source": [
    "Let's apply this function:"
   ]
  },
  {
   "cell_type": "code",
   "execution_count": null,
   "metadata": {
    "collapsed": false
   },
   "outputs": [],
   "source": [
    "math.sqrt(a)"
   ]
  },
  {
   "cell_type": "markdown",
   "metadata": {},
   "source": [
    "**Quick recap:**\n",
    "\n",
    "* Notebooks are web pages served by a Jupyter server\n",
    "* They contain Markdown cells (text) and code cells that are editable and runnable\n",
    "* Code is executed on the Jupyter server by a “kernel” which returns the output (if any), to be displayed in the page (\"Out[X]\")\n",
    "* The kernel's name is displayed at the top right. It is \n",
    "* Jupyter notebook server is open source; notebook format is JSON\n",
    "\n",
    "**Further reading:**\n",
    "\n",
    "* [Introduction to Python Programming — Jupyter notebook](https://github.com/jrjohansson/scientific-python-lectures/blob/master/Lecture-1-Introduction-to-Python-Programming.ipynb)\n",
    "\n",
    "**What next?**\n",
    "\n",
    "Create a new cell by clicking on the \"+\" button in the toolbar above. Write some code and execute it.\n",
    "\n",
    "Take some time to explore the other buttons in this toolbar, and then to explore to menu items above, in particular \"Cell\" and \"Kernel\"."
   ]
  },
  {
   "cell_type": "code",
   "execution_count": null,
   "metadata": {
    "collapsed": true
   },
   "outputs": [],
   "source": []
  }
 ],
 "metadata": {
  "kernelspec": {
   "display_name": "oml",
   "language": "python",
   "name": "oml"
  },
  "language_info": {
   "codemirror_mode": {
    "name": "ipython",
    "version": 2
   },
   "file_extension": ".py",
   "mimetype": "text/x-python",
   "name": "python",
   "nbconvert_exporter": "python",
   "pygments_lexer": "ipython2",
   "version": "2.7.12"
  }
 },
 "nbformat": 4,
 "nbformat_minor": 2
}
